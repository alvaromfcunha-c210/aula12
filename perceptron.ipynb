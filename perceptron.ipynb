{
 "cells": [
  {
   "attachments": {},
   "cell_type": "markdown",
   "metadata": {},
   "source": [
    "# Redes Neurais Artificiais - Perceptron"
   ]
  },
  {
   "attachments": {},
   "cell_type": "markdown",
   "metadata": {},
   "source": [
    "**Acompanhar explicação pelos slides da teoria.**"
   ]
  },
  {
   "attachments": {},
   "cell_type": "markdown",
   "metadata": {},
   "source": [
    "### Criação dos dados:"
   ]
  },
  {
   "cell_type": "code",
   "execution_count": null,
   "metadata": {},
   "outputs": [],
   "source": [
    "import numpy as np\n",
    "\n",
    "dados = np.array(\n",
    "    [[5.7, 7.5], [9.3, 5.6], [8.8, 6.9], [6.8, 9.2], [7.9, 9.1],\n",
    "    [8.8, 5.6], [5.6, 7.8], [8.8, 9.0], [7.6, 5.9], [4.9, 8.1],\n",
    "    [6.6, 4.5], [5.2, 7.2], [1.2, 1.2], [2.4, 1.6], [4.7, 2.5],\n",
    "    [0.9, 3.1], [2.6, 4.1], [1.8, 2.0], [4.1, 2.8], [1.8, 1.6],\n",
    "    [1.9, 3.1], [0.8, 3.2], [1.8, 2.9], [3.3, 1.6], [3.7, 2.5]\n",
    "  ])\n",
    "\n",
    "alvos = np.array([1, 1, 1, 1, 1, 1, 1, 1, 1, 1, 1, 1, -1, -1, -1, -1, -1, -1, -1, -1, -1, -1, -1, -1, -1])"
   ]
  },
  {
   "cell_type": "code",
   "execution_count": null,
   "metadata": {},
   "outputs": [],
   "source": [
    "import matplotlib.pyplot as plt\n",
    "\n",
    "plt.title(\"'dados' separado por 'alvos'\")\n",
    "plt.scatter(dados[:, 0], dados[:, 1], c = alvos)\n",
    "plt.show()"
   ]
  },
  {
   "attachments": {},
   "cell_type": "markdown",
   "metadata": {},
   "source": [
    "### Modelando rede Perceptron:"
   ]
  },
  {
   "cell_type": "code",
   "execution_count": null,
   "metadata": {},
   "outputs": [],
   "source": [
    "class Perceptron:\n",
    "    def __init__(self, taxa_aprendizado, numero_epocas):\n",
    "        self.taxa_aprendizado = taxa_aprendizado\n",
    "        self.numero_epocas = numero_epocas\n",
    "\n",
    "    def __ativacao(self, valor):\n",
    "        '''\n",
    "            Função de ativação.\n",
    "        '''\n",
    "        return (1 if valor > 0 else -1 if valor < 0 else 0)\n",
    "        \n",
    "    def __predicao(self, x):\n",
    "        '''\n",
    "            Função de predição.\n",
    "            Realiza a multiplicação matricial entre as entradas e os pesos somado ao bias proporcional.\n",
    "        '''\n",
    "        return np.dot(x, self.pesos.T) + self.bias * self.peso_bias\n",
    "    \n",
    "    def __avaliacao(self, valor_alvo, valor_saida):\n",
    "        '''\n",
    "            Função de avaliação.\n",
    "            Calcula a diferença entre o valor alvo e o valor de saida.\n",
    "        '''\n",
    "        return (valor_alvo - valor_saida)\n",
    "    \n",
    "    def treinar(self, dados, alvos):\n",
    "        '''\n",
    "            Treino da rede Perceptron.\n",
    "            Define aleatoriamente os pesos, o bias e o peso do bias.\n",
    "            Enquanto houver erro, ou o máximo de épocas não for atingido continua o processo.\n",
    "        '''\n",
    "        self.pesos = np.random.random(dados.shape[1])\n",
    "        self.bias = np.random.random()\n",
    "        self.peso_bias = np.random.random()\n",
    "\n",
    "        epoca = 0\n",
    "        is_erro = True\n",
    "        self.erros = []\n",
    "\n",
    "        while is_erro and epoca < self.numero_epocas:\n",
    "\n",
    "            is_erro  = False\n",
    "            erro_epoca = 0\n",
    "\n",
    "            for dado, alvo in zip(dados, alvos):\n",
    "\n",
    "                predito = self.__predicao(dado)\n",
    "                saida = self.__ativacao(predito)\n",
    "\n",
    "                erro = self.__avaliacao(alvo, saida)\n",
    "                erro_epoca += erro\n",
    "\n",
    "                if predito != saida:\n",
    "                    self.pesos += self.taxa_aprendizado * erro * dado\n",
    "                    self.peso_bias += self.taxa_aprendizado * erro * self.bias\n",
    "                    is_erro = True\n",
    "                    \n",
    "            self.erros.append(erro_epoca/len(dados))\n",
    "            epoca += 1\n",
    "            \n",
    "    def testar(self, dados):\n",
    "        '''\n",
    "            Testa a rede treinada.\n",
    "            Dado os dados, submete-os à rede para predição da saída.\n",
    "        '''\n",
    "        saidas = []\n",
    "        for dado in dados:\n",
    "            predicao = self.__predicao(dado)\n",
    "            saida = self.__ativacao(predicao)\n",
    "            saidas.append(saida)\n",
    "\n",
    "        return saidas"
   ]
  },
  {
   "attachments": {},
   "cell_type": "markdown",
   "metadata": {},
   "source": [
    "### Treinando a rede:"
   ]
  },
  {
   "cell_type": "code",
   "execution_count": null,
   "metadata": {},
   "outputs": [],
   "source": [
    "rede_perceptron = Perceptron(taxa_aprendizado=0.05, numero_epocas=2000)\n",
    "\n",
    "rede_perceptron.treinar(dados=dados, alvos=alvos)"
   ]
  },
  {
   "attachments": {},
   "cell_type": "markdown",
   "metadata": {},
   "source": [
    "### Testando a rede:"
   ]
  },
  {
   "cell_type": "code",
   "execution_count": null,
   "metadata": {},
   "outputs": [],
   "source": [
    "dados_teste = np.array([[6, 2], [9, 3], [5, 6], [7, 3], [6, 7], [1, 6]])\n",
    "\n",
    "saidas_teste = rede_perceptron.testar(dados=dados_teste)\n",
    "\n",
    "plt.title(\"'dados' e 'alvos' com as 'saidas_teste'\")\n",
    "plt.scatter(dados[:, 0], dados[:, 1], c = alvos)\n",
    "plt.scatter(dados_teste[:, 0], dados_teste[:, 1], c = saidas_teste, marker = \"*\")\n",
    "plt.show()"
   ]
  },
  {
   "attachments": {},
   "cell_type": "markdown",
   "metadata": {},
   "source": [
    "### Métricas da rede treinada:"
   ]
  },
  {
   "attachments": {},
   "cell_type": "markdown",
   "metadata": {},
   "source": [
    "Valores de erro:"
   ]
  },
  {
   "cell_type": "code",
   "execution_count": null,
   "metadata": {},
   "outputs": [],
   "source": [
    "plt.title(\"Erro por época.\")\n",
    "plt.plot(rede_perceptron.erros)\n",
    "plt.show()"
   ]
  },
  {
   "attachments": {},
   "cell_type": "markdown",
   "metadata": {},
   "source": [
    "Pesos da rede:"
   ]
  },
  {
   "cell_type": "code",
   "execution_count": null,
   "metadata": {},
   "outputs": [],
   "source": [
    "pesos = rede_perceptron.pesos\n",
    "print(f'Peso w1: {pesos[0]}')\n",
    "print(f'Peso w2: {pesos[1]}')"
   ]
  }
 ],
 "metadata": {
  "kernelspec": {
   "display_name": "Python 3",
   "language": "python",
   "name": "python3"
  },
  "language_info": {
   "codemirror_mode": {
    "name": "ipython",
    "version": 3
   },
   "file_extension": ".py",
   "mimetype": "text/x-python",
   "name": "python",
   "nbconvert_exporter": "python",
   "pygments_lexer": "ipython3",
   "version": "3.10.1"
  },
  "orig_nbformat": 4
 },
 "nbformat": 4,
 "nbformat_minor": 2
}
